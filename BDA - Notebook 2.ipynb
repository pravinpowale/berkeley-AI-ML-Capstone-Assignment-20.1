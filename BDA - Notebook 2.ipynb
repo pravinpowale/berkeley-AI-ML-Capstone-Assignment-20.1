{
 "cells": [
  {
   "cell_type": "markdown",
   "id": "a1880fef-54a2-4c1c-a393-0f77e03d2f20",
   "metadata": {},
   "source": [
    "### Bank Data Analysis - Financial Ratios"
   ]
  },
  {
   "cell_type": "markdown",
   "id": "0f27176b-9f4f-49d4-9718-09df5e602eef",
   "metadata": {},
   "source": [
    "### Input source data - US Banks Financial Quarterly Ratios 2001-2023\n",
    "### Source data URL - https://www.kaggle.com/datasets/neutrino404/all-us-banks-financial-quarterly-ratios-2001-2023"
   ]
  },
  {
   "cell_type": "code",
   "execution_count": 1,
   "id": "5a7e2cbd-a145-4071-953d-7063011f35ab",
   "metadata": {},
   "outputs": [],
   "source": [
    "## Python Libraries referenced\n",
    "\n",
    "import pandas as pd\n",
    "import numpy as np\n",
    "import matplotlib.pyplot as plt\n",
    "import seaborn as sns\n",
    "import plotly.express as px"
   ]
  },
  {
   "cell_type": "code",
   "execution_count": 3,
   "id": "75ec3aaa-d730-40d8-86a0-3d7b40597e2f",
   "metadata": {},
   "outputs": [],
   "source": [
    "## Create dataframe from downloaded .csv file\n",
    "\n",
    "df = pd.read_csv('data/total_bank_data.csv')"
   ]
  },
  {
   "cell_type": "code",
   "execution_count": 5,
   "id": "2b21da37-a895-42f2-a45e-e040909e31bc",
   "metadata": {},
   "outputs": [
    {
     "name": "stdout",
     "output_type": "stream",
     "text": [
      "Columns with at least one NaN value: ['CBLRIND', 'CBLRINDQ', 'DDTR', 'ELNATQR', 'ELNLOSQ', 'NTRIPCR', 'NTRR', 'NTTOTQ', 'ROE', 'TRNIPCOCR', 'TRNR', 'TSR', 'EEFF', 'EEFFQ', 'EEFFQR', 'IEFF', 'IEFFQ', 'NTCONQR', 'NTRSMMDAR', 'NTRSOTHR', 'RBCT1CER', 'ROAPTXQ', 'ROAQ', 'ROEQ', 'RWAJ', 'STNAME']\n"
     ]
    }
   ],
   "source": [
    "## Identify df columns with at least one NaN value\n",
    "\n",
    "columns_with_nan = df.columns[df.isna().any()].tolist()\n",
    "print(f\"Columns with at least one NaN value: {columns_with_nan}\")"
   ]
  },
  {
   "cell_type": "code",
   "execution_count": 7,
   "id": "42ecb19c-b368-4cb9-8e0b-a11953c97336",
   "metadata": {},
   "outputs": [
    {
     "name": "stdout",
     "output_type": "stream",
     "text": [
      "(656438, 796)\n",
      "(656438, 770)\n"
     ]
    }
   ],
   "source": [
    "## drop columsn_with_nan and create df_cl (cleaned version of df)\n",
    "## No row is dropped as it will result in loss of banks as each row corrseponds to a bank\n",
    "\n",
    "df_cl = df.drop(columns_with_nan, axis = 1)\n",
    "print(df.shape)\n",
    "print(df_cl.shape)"
   ]
  },
  {
   "cell_type": "code",
   "execution_count": 9,
   "id": "90870fff-f344-4c15-9f42-bbd75fcc4d6d",
   "metadata": {},
   "outputs": [
    {
     "name": "stdout",
     "output_type": "stream",
     "text": [
      "(4714, 770)\n"
     ]
    }
   ],
   "source": [
    "## Select QUARTER ending with 2023-06-30\n",
    "## The df_20230630 will be used to perform the PCA and K-Means Clustering\n",
    "\n",
    "df_20230630_all = df_cl.query(\"REPDTE == 20230630\")\n",
    "print(df_20230630_all.shape)"
   ]
  },
  {
   "cell_type": "code",
   "execution_count": 13,
   "id": "3456551e-f021-478e-bda8-be1f1dfd0bf7",
   "metadata": {},
   "outputs": [],
   "source": [
    "## Read list of CERTs of Banks with Assets >= $10,000,000,000 on 2023/06/30 from file downlaoded from FDIC.gov\n",
    "cert_df_20230630 = pd.read_csv(\"data/CERT_List_20230630.csv\")"
   ]
  },
  {
   "cell_type": "code",
   "execution_count": 17,
   "id": "4c7c67a1-8b4b-4225-b878-fca298774edc",
   "metadata": {},
   "outputs": [
    {
     "name": "stdout",
     "output_type": "stream",
     "text": [
      "(158, 770)\n"
     ]
    }
   ],
   "source": [
    "## Select Bank data using cert_df_20230630\n",
    "## A Large bank has Total Assets >= $150 B \n",
    "\n",
    "#ovie_ratings_df = pd.merge(ratings_df, movies_df, on=\"movieId\", how=\"inner\")\n",
    "df_20230630 = pd.merge(df_20230630_all, cert_df_20230630, on=\"CERT\", how=\"inner\")\n",
    "\n",
    "print(df_20230630.shape)"
   ]
  },
  {
   "cell_type": "code",
   "execution_count": 19,
   "id": "58d0362e-4cda-4659-af08-e0ce87d6b698",
   "metadata": {},
   "outputs": [
    {
     "name": "stdout",
     "output_type": "stream",
     "text": [
      "['ABCUBKR', 'ABCUOTHR', 'ABCXBKR', 'ABCXOTHR', 'ADDNONINTEXPQR', 'ADDNONINTEXPR', 'ALLOTHLR', 'ASCEOTHR', 'ASCERESR', 'ASDROTHR', 'ASDRRESR', 'ASSTLTR', 'AVASSETJR', 'BKPREMR', 'BROINSR', 'BROR', 'CD1T3R', 'CD1T3SR', 'CD3LESR', 'CD3LESSR', 'CD3T12R', 'CD3T12SR', 'CDOV3R', 'CDOV3SR', 'CERT', 'CHBALIR', 'CHBALNIR', 'CHBALR', 'CHCICR', 'CHCOINR', 'CHFRBR', 'CHITEMR', 'CHUSR', 'COREDEPR', 'CRAGQR', 'CRAGR', 'CRAGSMQR', 'CRAGSMR', 'CRAUTOQR', 'CRAUTOR', 'CRCINUSQR', 'CRCINUSR', 'CRCIQR', 'CRCIR', 'CRCONOTHR', 'CRCONOTQR', 'CRCONQR', 'CRCONR', 'CRCRCDQR', 'CRCRCDR', 'CRDEPNUQR', 'CRDEPNUSR', 'CRDEPQR', 'CRDEPR', 'CRFORGVQR', 'CRFORGVR', 'CRLNLSQR', 'CRLNLSR', 'CRLSQR', 'CRLSR', 'DEPDOMR', 'DEPFORR', 'DEPIFORR', 'DEPIPCCFR', 'DEPNIFORR', 'DEPR', 'DRLNLSQR', 'DRLNLSR', 'EAMINTANR', 'EAMINTQR', 'EDEPDOMQR', 'EDEPDOMR', 'EDEPFORQR', 'EDEPFORR', 'EFREPPQR', 'EFREPPR', 'EINTEXPR', 'EINTXQR', 'ELNATRR', 'EOTHNINQR', 'EOTHNINTR', 'EPREMAGGR', 'EPREMAGQR', 'EQCDIVCR', 'EQCDIVPR', 'EQCDIVQR', 'EQCDIVR', 'EQCSR', 'EQPPR', 'EQR', 'EQSURR', 'EQUPTOTR', 'ESALQR', 'ESALR', 'EXTRAQR', 'EXTRAR', 'FREPPR', 'ICHBALQR', 'ICHBALR', 'IFREPOQR', 'IFREPOR', 'IGLSECQR', 'IGLSECR', 'ILNDOMQR', 'ILNDOMR', 'ILNFORQR', 'ILNFORR', 'ILSQR', 'ILSR', 'INTANR', 'INTEXPY', 'INTINCR', 'INTINQR', 'IOTHIIQR', 'IOTHIIR', 'IRAKEOGHR', 'ISCQR', 'ISCR', 'ISERCHGR', 'ITAXQR', 'ITAXR', 'ITRADEQR', 'ITRADER', 'LIABEQR', 'LIABR', 'LNAGR', 'LNATRESRR', 'LNAUTOR', 'LNCIR', 'LNCONOTHR', 'LNCONR', 'LNCRCDR', 'LNFGR', 'LNLSGRR', 'LNLSNETR', 'LNMUNIR', 'LNOTCIR', 'LNREAGR', 'LNRECONSR', 'LNREDOMR', 'LNREFORR', 'LNRELOCR', 'LNREMULTR', 'LNRENRESR', 'LNRER', 'LNRERESR', 'LSR', 'NETIMINQR', 'NETIMINR', 'NETINBMQR', 'NETINBMR', 'NETINCQR', 'NETINCR', 'NIMQR', 'NIMR', 'NONIIR', 'NONIXQR', 'NONIXR', 'NTLNLSCOQR', 'NTLNLSCOR', 'NTRMUNIR', 'NTRTMLGJR', 'NTRTMMEDR', 'NTRUSGOVR', 'ORER', 'OTBFH1LR', 'OTBFH3T5R', 'OTBFHOV5R', 'OTBOT1LR', 'OTBOT1T3R', 'OTBOT3T5R', 'OTBOTOV5R', 'OTHBFH1LR', 'OTHBFHLBR', 'OTHBOT1LR', 'OTHBRFR', 'SCASPNSUMR', 'SCDOMOR', 'SCFORDR', 'SCMTGBKR', 'SCMUNIR', 'SCODPCR', 'SCR', 'SCUSR', 'SCUSTR', 'TRADELR', 'TRADER', 'TRNMUNIR', 'TRNUSGOVR', 'CROTHERR', 'CROTHQR', 'CRREAGQR', 'CRREAGR', 'CRRECONQR', 'CRRECONSR', 'CRREFORQR', 'CRREFORR', 'CRRELOCQR', 'CRRELOCR', 'CRREMULQR', 'CRREMULTR', 'CRRENRESR', 'CRRENRSQR', 'CRRENUSQR', 'CRRENUSR', 'CRREOFFDOMQR', 'CRREOFFDOMR', 'CRREQR', 'CRRER', 'CRRERESQR', 'CRRERESR', 'CRRERS2QR', 'CRRERSF2R', 'CRRERSFMR', 'CRRERSFQR', 'DEPCSBQR', 'DEPFBKFR', 'DEPFGOVFR', 'DEPIDOMR', 'DEPINSR', 'DEPLGAMTR', 'DEPLGRAR', 'DEPLSNBR', 'DEPNIDOMR', 'DEPSMAMTR', 'DEPSMRAR', 'DEPUSBKFR', 'DEPUSMFR', 'DRAGQR', 'DRAGR', 'DRAGSMQR', 'DRAGSMR', 'DRAUTOQR', 'DRAUTOR', 'DRCINUSQR', 'DRCINUSR', 'DRCIQR', 'DRCIR', 'DRCONOTHR', 'DRCONOTQR', 'DRCONQR', 'DRCONR', 'DRCRCDQR', 'DRCRCDR', 'DRDEPNUQR', 'DRDEPNUSR', 'DRDEPQR', 'DRDEPR', 'DRFORGVQR', 'DRFORGVR', 'DRLSQR', 'DRLSR', 'DROTHERR', 'DROTHQR', 'DRREAGQR', 'DRREAGR', 'DRRECONQR', 'DRRECONSR', 'DRREFORQR', 'DRREFORR', 'DRRELOCQR', 'DRRELOCR', 'DRREMULQR', 'DRREMULTR', 'DRRENRESR', 'DRRENRSQR', 'DRRENUSQR', 'DRRENUSR', 'DRREOFFDOMQR', 'DRREOFFDOMR', 'DRREQR', 'DRRER', 'DRRERESQR', 'DRRERESR', 'DRRERS2QR', 'DRRERSF2R', 'DRRERSFMR', 'DRRERSFQR', 'EEFFR', 'EINTGWQR', 'EINTGWR', 'EINTOTHQR', 'EINTOTHR', 'ENCEAUTOR', 'ENCECIR', 'ENCECONR', 'ENCEOTHR', 'ENCERESR', 'EOTHINTQR', 'EOTHINTR', 'EQCBHCTRR', 'EQCCOMPIR', 'EQCMRGR', 'EQCPREVR', 'EQCRESTR', 'EQCSTKRXR', 'EQCSXQR', 'EQCTRSTXR', 'EQTOTR', 'IBEFXTRQR', 'IBEFXTRR', 'IFIDUCQR', 'IFIDUCR', 'IGLCMEXQR', 'IGLCMEXR', 'IGLCREXQR', 'IGLCREXR', 'IGLEDEXQR', 'IGLEDEXR', 'IGLFXEXQR', 'IGLFXEXR', 'IGLRTEXQR', 'IGLRTEXR', 'IGLTRADR', 'IGLTRDQR', 'IINSCOMQR', 'IINSCOMR', 'IINSOTHQR', 'IINSOTHR', 'IINSUNDQR', 'IINSUNDR', 'IINVFEEQR', 'IINVFEER', 'INTANGWR', 'INTANMSRR', 'INTANOTHR', 'IOTNIIQR', 'IOTNIIR', 'ISECZQR', 'ISECZR', 'ISERCHGQR', 'ISERFEEQR', 'ISERFEER', 'IVENCAPQR', 'IVENCAPR', 'LAGR', 'LCIR', 'LCONR', 'LNAG1NR', 'LNAG1R', 'LNAG2NR', 'LNAG2R', 'LNAG3NR', 'LNAG3R', 'LNAG4NR', 'LNAG4R', 'LNAGFORR', 'LNCI1NR', 'LNCI1R', 'LNCI2NR', 'LNCI2R', 'LNCI3NR', 'LNCI3R', 'LNCI4NR', 'LNCI4R', 'LNCIFORR', 'LNCINUSFR', 'LNCOMRER', 'LNCONFORR', 'LNCONRPR', 'LNCONTRAR', 'LNDEPAOBKR', 'LNDEPCBFR', 'LNDEPFCFR', 'LNDEPUSFR', 'LNEXAMTR', 'LNFGFORR', 'LNLSFORR', 'LNLSGRFR', 'LNLSNQR', 'LNLSSALER', 'LNMUNIFR', 'LNOT1T3R', 'LNOT3LESR', 'LNOT3T12R', 'LNOT3T5R', 'LNOT5T15R', 'LNOTHERFR', 'LNOTOV15R', 'LNPLEDGER', 'LNREAG1R', 'LNREAG2R', 'LNREAG3R', 'LNREAG4R', 'LNREAG1NR', 'LNREAG2NR', 'LNREAG3NR', 'LNREAG4NR', 'LNRECNFMR', 'LNRENR1NR', 'LNRENR1R', 'LNRENR2NR', 'LNRENR2R', 'LNRENR3NR', 'LNRENR3R', 'LNRENR4NR', 'LNRENR4R', 'LNRENROTR', 'LNRENUSR', 'LNRERSF1R', 'LNRERSF2R', 'LNRERSFMR', 'LNRS1T3R', 'LNRS3LESR', 'LNRS3T12R', 'LNRS3T5R', 'LNRS5T15R', 'LNRSOV15R', 'LNSERVR', 'LOCCOMR', 'LOCFPSBKR', 'LOCFPSBR', 'LOCFSBKR', 'LOCFSBR', 'LOCPSBKR', 'LOCPSBR', 'LOREGTYR', 'LOTHR', 'LREAGR', 'LRECONSR', 'LREMULTR', 'LRENRESR', 'LRERESR', 'LSALNLSR', 'LSAOAR', 'LSAORER', 'LSASCDBTR', 'LSFORR', 'MSRECER', 'MSRESFCLR', 'MSRNRECER', 'NAAGR', 'NAAGSMR', 'NAASSETR', 'NAAUTOR', 'NACINUSR', 'NACIR', 'NACONOTHR', 'NACONR', 'NACRCDR', 'NADEPNUSR', 'NADEPR', 'NAFGR', 'NAGTYPARR', 'NALAGR', 'NALCIR', 'NALCONR', 'NALGTYR', 'NALNSALER', 'NALOTHR', 'NALREAGR', 'NALRECONR', 'NALREMULR', 'NALRENRSR', 'NALRERESR', 'NALSR', 'NALTOTR', 'NAOTHLNR', 'NAREAGR', 'NARECNFMR', 'NARECNOTR', 'NARECONSR', 'NAREFORR', 'NARELOCR', 'NAREMULTR', 'NARENRESR', 'NARENROTR', 'NARENROWR', 'NARENUSR', 'NARER', 'NARERESR', 'NARERSF2R', 'NARERSFMR', 'NARSLNFMR', 'NARSLNLSR', 'NARSLNLTR', 'NASCDEBTR', 'NETGNASTR', 'NETGNSLNR', 'NETGNSRER', 'NOIJQR', 'NOIJR', 'NONIIQR', 'NTAGQR', 'NTAGR', 'NTAGSMQR', 'NTAGSMR', 'NTAUTOLNQR', 'NTAUTOR', 'NTCINUSQR', 'NTCINUSR', 'NTCIQR', 'NTCIR', 'NTCONOTHR', 'NTCONOTQR', 'NTCONR', 'NTCRCDQR', 'NTCRCDR', 'NTDEPNUQR', 'NTDEPNUSQ', 'NTDEPNUSR', 'NTDEPQR', 'NTDEPR', 'NTFORGVQR', 'NTFORGVR', 'NTGLFXAQR', 'NTGLLNQR', 'NTGLREQR', 'NTLSQR', 'NTLSR', 'NTOTHERR', 'NTOTHQR', 'NTRCDSMR', 'NTRCOMOTR', 'NTREAGQR', 'NTREAGR', 'NTRECONQR', 'NTRECONSR', 'NTREFORQR', 'NTREFORR', 'NTRELNR', 'NTRELOCLNR', 'NTRELOCQR', 'NTRELOCRQ', 'NTREMULQR', 'NTREMULTR', 'NTRENRESR', 'NTRENRSQR', 'NTRENUSQR', 'NTRENUSR', 'NTREOFFDOMQR', 'NTREOFFDOMR', 'NTREOTHRQR', 'NTRERESLNR', 'NTRERESQR', 'NTRERESRQ', 'NTRERQ', 'NTRERS2QR', 'NTRERSF2R', 'NTRERSFMR', 'NTRERSFQR', 'NTRFCFGR', 'OALIFGENR', 'OALIFHYBR', 'OALIFINSR', 'OALIFSEPR', 'OREAGR', 'ORECONSR', 'OREINVR', 'OREMULTR', 'ORENRESR', 'OREOTHFR', 'OREOTHR', 'ORERESR', 'OTHFFCR', 'OTHOFFBSR', 'P3AGR', 'P3AGSMR', 'P3ASSETR', 'P3AUTOR', 'P3CINUSR', 'P3CIR', 'P3CONOTHR', 'P3CONR', 'P3CRCDR', 'P3FGR', 'P3GTYPARR', 'P3LAGR', 'P3LCIR', 'P3LCONR', 'P3LGTYR', 'P3LNSALER', 'P3LOTHR', 'P3LREAGR', 'P3LRECONR', 'P3LREMULR', 'P3LRENRSR', 'P3LRERESR', 'P3LSR', 'P3LTOTR', 'P3OTHLNR', 'ADDNONIIQR', 'ADDNONIIR', 'AOAR', 'ASSETR', 'AVMMLFR', 'AVPPPPLGR', 'ESTINSR', 'IDLNCORR', 'IDNCATOR', 'IDNCCIR', 'IDNCCONR', 'IDNCCOTR', 'IDNCCRDR', 'IDNCGTPR', 'IDT1CER', 'IDT1RWAJR', 'INTINCY', 'LNLSGRSR', 'MMLFBALR', 'NAME', 'NARELNDOR', 'NTCOMREQR', 'P3REFORR', 'P3RELNDOR', 'P3RELOCR', 'P3RENROWR', 'P3RER', 'P3RERSF2R', 'P3RERSFMR', 'P3RSLNFMR', 'P3RSLNLSR', 'P3RSLNLTR', 'P3SCDEBTR', 'P9AGR', 'P9AGSMR', 'P9ASSETR', 'P9AUTOR', 'P9CINUSR', 'P9CIR', 'P9CONOTHR', 'P9CONR', 'P9CRCDR', 'P9DEPNUSR', 'P9DEPR', 'P9FGR', 'P9GTYPARR', 'P9LAGR', 'P9LCIR', 'P9LCONR', 'P9LGTYR', 'P9LNSALER', 'P9LOTHR', 'P9LREAGR', 'P9LRECONR', 'P9LREMULR', 'P9LRENRSR', 'P9LRERESR', 'P9LSR', 'P9LTOTR', 'P9OTHLNR', 'P9RECNFMR', 'P9RECNOTR', 'P9RECONSR', 'P9REFORR', 'P9RELNDOR', 'P9RELOCR', 'P9REMULTR', 'P9RENRESR', 'P9RENROTR', 'P9RENROWR', 'P9RER', 'P9RERESR', 'P9RERSF2R', 'P9RERSFMR', 'P9RSLNFMR', 'P9RSLNLSR', 'P9RSLNLTR', 'P9SCDEBTR', 'PARTCONVR', 'PPPLF1LSR', 'PPPLFOV1R', 'PPPLNBALR', 'PPPLNNUMR', 'PPPLNPLGR', 'PTAXNETINCQR', 'PTAXNETINCR', 'RB2LNRESR', 'RBCT1JR', 'RBCT2R', 'REPDTE', 'REPYEAR', 'ROA', 'ROAPTX', 'RSLNLSR', 'RSLNLTOTR', 'RSLNREFMR', 'RWAJTR', 'SC1LESR', 'SCABSR', 'SCAFR', 'SCCMOGR', 'SCCMOTR', 'SCCMPTR', 'SCCOLR', 'SCCPTGR', 'SCEQFVR', 'SCFMNR', 'SCGNMR', 'SCGTYR', 'SCHAR', 'SCHTMRESR', 'SCLENTR', 'SCNM1T3R', 'SCNM3LESR', 'SCNM3T12R', 'SCNM3T5R', 'SCNM5T15R', 'SCNMOV15R', 'SCO3YLESR', 'SCODOTR', 'SCODPIR', 'SCOOV3YR', 'SCPLEDGER', 'SCPT1T3R', 'SCPT3LESR', 'SCPT3T12R', 'SCPT3T5R', 'SCPT5T15R', 'SCPTOV15R', 'SCRDEBTR', 'SCRMBPIR', 'SCSFPR', 'SCSNHAAR', 'SCSNHAFR', 'SZ30AUTOR', 'SZ30CIR', 'SZ30CONR', 'SZ30CRCDR', 'SZ30HELR', 'SZ30OTHR', 'SZ30RESR', 'SZ90AUTOR', 'SZ90CIR', 'SZ90CONR', 'SZ90CRCDR', 'SZ90HELR', 'SZ90OTHR', 'SZCRCDFER', 'SZCRCIR', 'SZCRCONR', 'SZCRCRCDR', 'SZCRHELR', 'SZCROTHR', 'SZCRRESR', 'SZDRAUTOR', 'SZDRCIR', 'SZDRCONR', 'SZDRCRCDR', 'SZDRHELR', 'SZDROTHR', 'SZISLAUTR', 'SZISLCCDR', 'SZISLCIR', 'SZISLCONR', 'SZISLHELR', 'SZISLOTHR', 'SZISLRESR', 'SZLAUTOR', 'SZLNCIR', 'SZLNCONR', 'SZLNCRCDR', 'SZLNHELR', 'SZLNOTHR', 'SZLNRESR', 'TRLREVALR', 'TRNCBOR', 'TRNFCFGR', 'TRREVALSUMR', 'UCCOMRER', 'UCCOMRESR', 'UCCOMREUR', 'UCCRCDR', 'UCLOCR', 'UCOTHERR', 'UCOVER1R', 'UCR', 'UCSCR', 'UNINCFORR', 'VOLIABR']\n"
     ]
    }
   ],
   "source": [
    "column_list = df_20230630.columns.tolist()\n",
    "print(column_list)"
   ]
  },
  {
   "cell_type": "markdown",
   "id": "d3c1dd97-be38-45aa-89fb-c23149b0f52d",
   "metadata": {},
   "source": [
    "#### DROP Columns 'CERT', 'REPDTE', 'REPYEAR' as they can be a source of noise for the financial ratio data\n",
    "#### The CERT ids are available in cert_df_20230630 which has the same index values as the resulting dataframe\n",
    "#### after dropping the three columns"
   ]
  },
  {
   "cell_type": "code",
   "execution_count": 21,
   "id": "9dcc719a-851e-4ad1-8c3a-01a573a67d29",
   "metadata": {},
   "outputs": [
    {
     "name": "stdout",
     "output_type": "stream",
     "text": [
      "(158, 767)\n"
     ]
    }
   ],
   "source": [
    "df_20230630_sel = df_20230630.drop(['CERT', 'REPDTE', 'REPYEAR'], axis = 1)\n",
    "print(df_20230630_sel.shape)"
   ]
  },
  {
   "cell_type": "markdown",
   "id": "e18b9b65-cb81-42ab-bfc8-7eb3adca680c",
   "metadata": {},
   "source": [
    "#### DROP Non-Numeric Columns"
   ]
  },
  {
   "cell_type": "code",
   "execution_count": 23,
   "id": "f20d8b41-ed0c-4bc0-91bc-18e9f678d34f",
   "metadata": {},
   "outputs": [
    {
     "name": "stdout",
     "output_type": "stream",
     "text": [
      "['NAME']\n",
      "(158, 766)\n"
     ]
    }
   ],
   "source": [
    "non_num_columns = df_20230630_sel.select_dtypes(exclude='number').columns.tolist()\n",
    "print(non_num_columns)\n",
    "\n",
    "df_20230630_num = df_20230630_sel.drop(non_num_columns, axis = 1)\n",
    "print(df_20230630_num.shape)"
   ]
  },
  {
   "cell_type": "code",
   "execution_count": 25,
   "id": "4573f619-499d-434e-b9ea-a932946d697d",
   "metadata": {},
   "outputs": [
    {
     "name": "stdout",
     "output_type": "stream",
     "text": [
      "                           NAME\n",
      "0         FIRST INTERSTATE BANK\n",
      "1  FIRST-CITIZENS BANK&TRUST CO\n",
      "2                      BANK OZK\n",
      "3               CENTENNIAL BANK\n",
      "4                  CADENCE BANK\n"
     ]
    }
   ],
   "source": [
    "df_non_num = df_20230630_sel[non_num_columns]\n",
    "print(df_non_num.head())"
   ]
  },
  {
   "cell_type": "markdown",
   "id": "5a6e689e-dd94-44f1-8986-881b8283fcee",
   "metadata": {},
   "source": [
    "#### Normalize the financial ratio columns\n",
    "#### by subtrating the mean and then dividing by the standard deviation"
   ]
  },
  {
   "cell_type": "code",
   "execution_count": 28,
   "id": "d39aec84-39b9-458b-9e4f-a113ff3d74d5",
   "metadata": {},
   "outputs": [
    {
     "name": "stdout",
     "output_type": "stream",
     "text": [
      "(158, 766)\n"
     ]
    },
    {
     "data": {
      "text/html": [
       "<div>\n",
       "<style scoped>\n",
       "    .dataframe tbody tr th:only-of-type {\n",
       "        vertical-align: middle;\n",
       "    }\n",
       "\n",
       "    .dataframe tbody tr th {\n",
       "        vertical-align: top;\n",
       "    }\n",
       "\n",
       "    .dataframe thead th {\n",
       "        text-align: right;\n",
       "    }\n",
       "</style>\n",
       "<table border=\"1\" class=\"dataframe\">\n",
       "  <thead>\n",
       "    <tr style=\"text-align: right;\">\n",
       "      <th></th>\n",
       "      <th>ABCUBKR</th>\n",
       "      <th>ABCUOTHR</th>\n",
       "      <th>ABCXBKR</th>\n",
       "      <th>ABCXOTHR</th>\n",
       "      <th>ADDNONINTEXPQR</th>\n",
       "      <th>ADDNONINTEXPR</th>\n",
       "      <th>ALLOTHLR</th>\n",
       "      <th>ASCEOTHR</th>\n",
       "      <th>ASCERESR</th>\n",
       "      <th>ASDROTHR</th>\n",
       "      <th>...</th>\n",
       "      <th>UCCOMRESR</th>\n",
       "      <th>UCCOMREUR</th>\n",
       "      <th>UCCRCDR</th>\n",
       "      <th>UCLOCR</th>\n",
       "      <th>UCOTHERR</th>\n",
       "      <th>UCOVER1R</th>\n",
       "      <th>UCR</th>\n",
       "      <th>UCSCR</th>\n",
       "      <th>UNINCFORR</th>\n",
       "      <th>VOLIABR</th>\n",
       "    </tr>\n",
       "  </thead>\n",
       "  <tbody>\n",
       "    <tr>\n",
       "      <th>count</th>\n",
       "      <td>1.580000e+02</td>\n",
       "      <td>1.580000e+02</td>\n",
       "      <td>158.000000</td>\n",
       "      <td>1.580000e+02</td>\n",
       "      <td>1.580000e+02</td>\n",
       "      <td>1.580000e+02</td>\n",
       "      <td>1.580000e+02</td>\n",
       "      <td>1.580000e+02</td>\n",
       "      <td>158.000000</td>\n",
       "      <td>1.580000e+02</td>\n",
       "      <td>...</td>\n",
       "      <td>1.580000e+02</td>\n",
       "      <td>1.580000e+02</td>\n",
       "      <td>1.580000e+02</td>\n",
       "      <td>158.000000</td>\n",
       "      <td>0.0</td>\n",
       "      <td>1.580000e+02</td>\n",
       "      <td>1.580000e+02</td>\n",
       "      <td>1.580000e+02</td>\n",
       "      <td>1.580000e+02</td>\n",
       "      <td>1.580000e+02</td>\n",
       "    </tr>\n",
       "    <tr>\n",
       "      <th>mean</th>\n",
       "      <td>2.248553e-17</td>\n",
       "      <td>5.621382e-18</td>\n",
       "      <td>0.000000</td>\n",
       "      <td>5.621382e-18</td>\n",
       "      <td>2.670157e-17</td>\n",
       "      <td>-1.039956e-16</td>\n",
       "      <td>1.124276e-17</td>\n",
       "      <td>2.951226e-17</td>\n",
       "      <td>0.000000</td>\n",
       "      <td>-2.670157e-17</td>\n",
       "      <td>...</td>\n",
       "      <td>-1.855056e-16</td>\n",
       "      <td>1.124276e-17</td>\n",
       "      <td>3.372829e-17</td>\n",
       "      <td>0.000000</td>\n",
       "      <td>NaN</td>\n",
       "      <td>4.216037e-17</td>\n",
       "      <td>8.994212e-17</td>\n",
       "      <td>5.621382e-17</td>\n",
       "      <td>-2.178286e-17</td>\n",
       "      <td>1.236704e-16</td>\n",
       "    </tr>\n",
       "    <tr>\n",
       "      <th>std</th>\n",
       "      <td>1.000000e+00</td>\n",
       "      <td>1.000000e+00</td>\n",
       "      <td>1.000000</td>\n",
       "      <td>1.000000e+00</td>\n",
       "      <td>1.000000e+00</td>\n",
       "      <td>1.000000e+00</td>\n",
       "      <td>1.000000e+00</td>\n",
       "      <td>1.000000e+00</td>\n",
       "      <td>1.000000</td>\n",
       "      <td>1.000000e+00</td>\n",
       "      <td>...</td>\n",
       "      <td>1.000000e+00</td>\n",
       "      <td>1.000000e+00</td>\n",
       "      <td>1.000000e+00</td>\n",
       "      <td>1.000000</td>\n",
       "      <td>NaN</td>\n",
       "      <td>1.000000e+00</td>\n",
       "      <td>1.000000e+00</td>\n",
       "      <td>1.000000e+00</td>\n",
       "      <td>1.000000e+00</td>\n",
       "      <td>1.000000e+00</td>\n",
       "    </tr>\n",
       "    <tr>\n",
       "      <th>min</th>\n",
       "      <td>-1.124226e-01</td>\n",
       "      <td>-7.955573e-02</td>\n",
       "      <td>-0.112182</td>\n",
       "      <td>-7.955573e-02</td>\n",
       "      <td>-6.469843e-01</td>\n",
       "      <td>-6.476791e-01</td>\n",
       "      <td>-4.144864e-01</td>\n",
       "      <td>-1.898588e-01</td>\n",
       "      <td>-0.151896</td>\n",
       "      <td>-1.939088e-01</td>\n",
       "      <td>...</td>\n",
       "      <td>-8.525414e-01</td>\n",
       "      <td>-4.613577e-01</td>\n",
       "      <td>-2.322922e-01</td>\n",
       "      <td>-0.785437</td>\n",
       "      <td>NaN</td>\n",
       "      <td>-1.299397e+00</td>\n",
       "      <td>-5.819969e-01</td>\n",
       "      <td>-7.955573e-02</td>\n",
       "      <td>-1.209117e-01</td>\n",
       "      <td>-1.145111e+00</td>\n",
       "    </tr>\n",
       "    <tr>\n",
       "      <th>25%</th>\n",
       "      <td>-1.124226e-01</td>\n",
       "      <td>-7.955573e-02</td>\n",
       "      <td>-0.112182</td>\n",
       "      <td>-7.955573e-02</td>\n",
       "      <td>-3.074680e-01</td>\n",
       "      <td>-3.151613e-01</td>\n",
       "      <td>-2.623664e-01</td>\n",
       "      <td>-1.898588e-01</td>\n",
       "      <td>-0.151896</td>\n",
       "      <td>-1.939088e-01</td>\n",
       "      <td>...</td>\n",
       "      <td>-6.585196e-01</td>\n",
       "      <td>-4.613577e-01</td>\n",
       "      <td>-2.322922e-01</td>\n",
       "      <td>-0.737779</td>\n",
       "      <td>NaN</td>\n",
       "      <td>-6.073321e-01</td>\n",
       "      <td>-3.293353e-01</td>\n",
       "      <td>-7.955573e-02</td>\n",
       "      <td>-1.209117e-01</td>\n",
       "      <td>-6.291931e-01</td>\n",
       "    </tr>\n",
       "    <tr>\n",
       "      <th>50%</th>\n",
       "      <td>-1.124226e-01</td>\n",
       "      <td>-7.955573e-02</td>\n",
       "      <td>-0.112182</td>\n",
       "      <td>-7.955573e-02</td>\n",
       "      <td>-2.260726e-01</td>\n",
       "      <td>-2.197978e-01</td>\n",
       "      <td>-1.611678e-01</td>\n",
       "      <td>-1.898588e-01</td>\n",
       "      <td>-0.151896</td>\n",
       "      <td>-1.939088e-01</td>\n",
       "      <td>...</td>\n",
       "      <td>-1.113605e-01</td>\n",
       "      <td>-4.531139e-01</td>\n",
       "      <td>-2.306601e-01</td>\n",
       "      <td>-0.243927</td>\n",
       "      <td>NaN</td>\n",
       "      <td>-5.770492e-02</td>\n",
       "      <td>-2.095090e-01</td>\n",
       "      <td>-7.955573e-02</td>\n",
       "      <td>-1.209117e-01</td>\n",
       "      <td>-2.091873e-01</td>\n",
       "    </tr>\n",
       "    <tr>\n",
       "      <th>75%</th>\n",
       "      <td>-1.124226e-01</td>\n",
       "      <td>-7.955573e-02</td>\n",
       "      <td>-0.112182</td>\n",
       "      <td>-7.955573e-02</td>\n",
       "      <td>-8.307229e-02</td>\n",
       "      <td>-1.003618e-01</td>\n",
       "      <td>-4.405037e-02</td>\n",
       "      <td>-1.898588e-01</td>\n",
       "      <td>-0.134061</td>\n",
       "      <td>-1.939088e-01</td>\n",
       "      <td>...</td>\n",
       "      <td>3.291406e-01</td>\n",
       "      <td>1.353835e-02</td>\n",
       "      <td>-1.948302e-01</td>\n",
       "      <td>0.473075</td>\n",
       "      <td>NaN</td>\n",
       "      <td>4.366597e-01</td>\n",
       "      <td>-3.584861e-02</td>\n",
       "      <td>-7.955573e-02</td>\n",
       "      <td>-1.209117e-01</td>\n",
       "      <td>3.550621e-01</td>\n",
       "    </tr>\n",
       "    <tr>\n",
       "      <th>max</th>\n",
       "      <td>9.556040e+00</td>\n",
       "      <td>1.249025e+01</td>\n",
       "      <td>9.726417</td>\n",
       "      <td>1.249025e+01</td>\n",
       "      <td>8.682608e+00</td>\n",
       "      <td>8.568043e+00</td>\n",
       "      <td>1.032841e+01</td>\n",
       "      <td>9.653063e+00</td>\n",
       "      <td>11.899645</td>\n",
       "      <td>9.372171e+00</td>\n",
       "      <td>...</td>\n",
       "      <td>9.094529e+00</td>\n",
       "      <td>5.124254e+00</td>\n",
       "      <td>7.721899e+00</td>\n",
       "      <td>8.310314</td>\n",
       "      <td>NaN</td>\n",
       "      <td>5.893855e+00</td>\n",
       "      <td>7.671607e+00</td>\n",
       "      <td>1.249025e+01</td>\n",
       "      <td>9.499655e+00</td>\n",
       "      <td>6.133293e+00</td>\n",
       "    </tr>\n",
       "  </tbody>\n",
       "</table>\n",
       "<p>8 rows × 766 columns</p>\n",
       "</div>"
      ],
      "text/plain": [
       "            ABCUBKR      ABCUOTHR     ABCXBKR      ABCXOTHR  ADDNONINTEXPQR  \\\n",
       "count  1.580000e+02  1.580000e+02  158.000000  1.580000e+02    1.580000e+02   \n",
       "mean   2.248553e-17  5.621382e-18    0.000000  5.621382e-18    2.670157e-17   \n",
       "std    1.000000e+00  1.000000e+00    1.000000  1.000000e+00    1.000000e+00   \n",
       "min   -1.124226e-01 -7.955573e-02   -0.112182 -7.955573e-02   -6.469843e-01   \n",
       "25%   -1.124226e-01 -7.955573e-02   -0.112182 -7.955573e-02   -3.074680e-01   \n",
       "50%   -1.124226e-01 -7.955573e-02   -0.112182 -7.955573e-02   -2.260726e-01   \n",
       "75%   -1.124226e-01 -7.955573e-02   -0.112182 -7.955573e-02   -8.307229e-02   \n",
       "max    9.556040e+00  1.249025e+01    9.726417  1.249025e+01    8.682608e+00   \n",
       "\n",
       "       ADDNONINTEXPR      ALLOTHLR      ASCEOTHR    ASCERESR      ASDROTHR  \\\n",
       "count   1.580000e+02  1.580000e+02  1.580000e+02  158.000000  1.580000e+02   \n",
       "mean   -1.039956e-16  1.124276e-17  2.951226e-17    0.000000 -2.670157e-17   \n",
       "std     1.000000e+00  1.000000e+00  1.000000e+00    1.000000  1.000000e+00   \n",
       "min    -6.476791e-01 -4.144864e-01 -1.898588e-01   -0.151896 -1.939088e-01   \n",
       "25%    -3.151613e-01 -2.623664e-01 -1.898588e-01   -0.151896 -1.939088e-01   \n",
       "50%    -2.197978e-01 -1.611678e-01 -1.898588e-01   -0.151896 -1.939088e-01   \n",
       "75%    -1.003618e-01 -4.405037e-02 -1.898588e-01   -0.134061 -1.939088e-01   \n",
       "max     8.568043e+00  1.032841e+01  9.653063e+00   11.899645  9.372171e+00   \n",
       "\n",
       "       ...     UCCOMRESR     UCCOMREUR       UCCRCDR      UCLOCR  UCOTHERR  \\\n",
       "count  ...  1.580000e+02  1.580000e+02  1.580000e+02  158.000000       0.0   \n",
       "mean   ... -1.855056e-16  1.124276e-17  3.372829e-17    0.000000       NaN   \n",
       "std    ...  1.000000e+00  1.000000e+00  1.000000e+00    1.000000       NaN   \n",
       "min    ... -8.525414e-01 -4.613577e-01 -2.322922e-01   -0.785437       NaN   \n",
       "25%    ... -6.585196e-01 -4.613577e-01 -2.322922e-01   -0.737779       NaN   \n",
       "50%    ... -1.113605e-01 -4.531139e-01 -2.306601e-01   -0.243927       NaN   \n",
       "75%    ...  3.291406e-01  1.353835e-02 -1.948302e-01    0.473075       NaN   \n",
       "max    ...  9.094529e+00  5.124254e+00  7.721899e+00    8.310314       NaN   \n",
       "\n",
       "           UCOVER1R           UCR         UCSCR     UNINCFORR       VOLIABR  \n",
       "count  1.580000e+02  1.580000e+02  1.580000e+02  1.580000e+02  1.580000e+02  \n",
       "mean   4.216037e-17  8.994212e-17  5.621382e-17 -2.178286e-17  1.236704e-16  \n",
       "std    1.000000e+00  1.000000e+00  1.000000e+00  1.000000e+00  1.000000e+00  \n",
       "min   -1.299397e+00 -5.819969e-01 -7.955573e-02 -1.209117e-01 -1.145111e+00  \n",
       "25%   -6.073321e-01 -3.293353e-01 -7.955573e-02 -1.209117e-01 -6.291931e-01  \n",
       "50%   -5.770492e-02 -2.095090e-01 -7.955573e-02 -1.209117e-01 -2.091873e-01  \n",
       "75%    4.366597e-01 -3.584861e-02 -7.955573e-02 -1.209117e-01  3.550621e-01  \n",
       "max    5.893855e+00  7.671607e+00  1.249025e+01  9.499655e+00  6.133293e+00  \n",
       "\n",
       "[8 rows x 766 columns]"
      ]
     },
     "execution_count": 28,
     "metadata": {},
     "output_type": "execute_result"
    }
   ],
   "source": [
    "mu = df_20230630_num.mean()\n",
    "sigma = df_20230630_num.std()\n",
    "df_norm = (df_20230630_num - mu) / sigma\n",
    "print(df_norm.shape)\n",
    "df_norm.describe()\n"
   ]
  },
  {
   "cell_type": "markdown",
   "id": "97c8ed4d-a6e7-442e-95b1-3fca8b572796",
   "metadata": {},
   "source": [
    "#### The Normaization process can create NaN values when the Standard Deviation is 0 thus resulting in division by 0\n",
    "#### List and DROP all such columns with NaN values created as a result of the Normalization process"
   ]
  },
  {
   "cell_type": "code",
   "execution_count": 31,
   "id": "1368a51b-3648-46b9-b58f-9195ab582601",
   "metadata": {},
   "outputs": [
    {
     "name": "stdout",
     "output_type": "stream",
     "text": [
      "['CRDEPNUQR', 'CRDEPNUSR', 'CRDEPQR', 'CRDEPR', 'CRFORGVQR', 'CRFORGVR', 'LIABEQR', 'SCASPNSUMR', 'DEPCSBQR', 'DRDEPNUQR', 'DRDEPNUSR', 'DRDEPQR', 'DRDEPR', 'DRFORGVQR', 'DRFORGVR', 'EQCTRSTXR', 'LAGR', 'LCIR', 'LCONR', 'LOREGTYR', 'LSAOAR', 'LSAORER', 'LSASCDBTR', 'NALAGR', 'NALCIR', 'NALCONR', 'NALREAGR', 'NTDEPNUQR', 'NTDEPNUSQ', 'NTDEPNUSR', 'NTDEPQR', 'NTDEPR', 'NTFORGVQR', 'NTFORGVR', 'OREINVR', 'P3FGR', 'P3LAGR', 'P3LCIR', 'P3LCONR', 'P3LREAGR', 'P3LTOTR', 'ASSETR', 'AVMMLFR', 'AVPPPPLGR', 'ESTINSR', 'MMLFBALR', 'P9FGR', 'P9LAGR', 'P9LCIR', 'P9LCONR', 'P9LREAGR', 'P9LRECONR', 'P9LREMULR', 'P9LRENRSR', 'P9LRERESR', 'PARTCONVR', 'PPPLF1LSR', 'PPPLFOV1R', 'PPPLNPLGR', 'SZ30CIR', 'SZ90CIR', 'SZCRCIR', 'SZCRCRCDR', 'SZDRCIR', 'SZISLCCDR', 'SZISLCONR', 'UCOTHERR']\n",
      "(158, 699)\n"
     ]
    }
   ],
   "source": [
    "## check for NaN columns in norm\n",
    "columns_with_nan1 = df_norm.columns[df_norm.isna().any()].tolist()\n",
    "print(columns_with_nan1)\n",
    "\n",
    "## DROP NaN columns from norm (NaN possibly due to division by zero)\n",
    "\n",
    "df_norm_cl = df_norm.drop(columns_with_nan1, axis = 1)\n",
    "print(df_norm_cl.shape)"
   ]
  },
  {
   "cell_type": "markdown",
   "id": "7469dc22-3381-4a66-8a3b-ab159517fc8f",
   "metadata": {},
   "source": [
    "#### The dataframe df_norm_cl is used for the Bank Data analysis"
   ]
  },
  {
   "cell_type": "markdown",
   "id": "0c878970-8274-4bcd-82c8-554f2c8c7c34",
   "metadata": {},
   "source": [
    "#### STEP 1 - Paerform Principal Component Analysis (PCA)\n",
    "#### Perform Singular Value Decomposition (SVD)"
   ]
  },
  {
   "cell_type": "code",
   "execution_count": 35,
   "id": "e0ef2144-09b8-465d-9708-89d2c172f9fe",
   "metadata": {},
   "outputs": [],
   "source": [
    "## PERFORM SINGULAR VALUE DECOMPOSITION (SVD)\n",
    "\n",
    "from scipy.linalg import svd\n",
    "U, s, Vt = svd(df_norm_cl, full_matrices=True)\n",
    "Sigma = np.diag(s)\n",
    "V = Vt.T"
   ]
  },
  {
   "cell_type": "markdown",
   "id": "401925fb-17bc-4dac-bd1b-15e9d8775796",
   "metadata": {},
   "source": [
    "#### Convert matrices U, Sigma and V to DataFrames"
   ]
  },
  {
   "cell_type": "code",
   "execution_count": 38,
   "id": "ae5b304e-2275-4f89-80c1-3723fa927f69",
   "metadata": {},
   "outputs": [
    {
     "name": "stdout",
     "output_type": "stream",
     "text": [
      "(158, 699)\n",
      "(158, 158)\n",
      "(158, 158)\n",
      "(699, 699)\n"
     ]
    }
   ],
   "source": [
    "print(df_norm_cl.shape)\n",
    "\n",
    "U_df = pd.DataFrame(U)\n",
    "print(U_df.shape)\n",
    "\n",
    "Sigma_df = pd.DataFrame(Sigma)\n",
    "print(Sigma_df.shape)\n",
    "\n",
    "V_df = pd.DataFrame(V)\n",
    "print(V_df.shape)"
   ]
  },
  {
   "cell_type": "markdown",
   "id": "539ce68d-7095-496d-977e-acd21705eb35",
   "metadata": {},
   "source": [
    "#### Plot Sigma vs Column Index (representing the descending order of signifcance)"
   ]
  },
  {
   "cell_type": "code",
   "execution_count": 41,
   "id": "9ef96238-458c-4d4d-888e-4b8abb2eb930",
   "metadata": {},
   "outputs": [
    {
     "data": {
      "image/png": "[encoded data removed]",
      "text/plain": [
       "<Figure size 640x480 with 1 Axes>"
      ]
     },
     "metadata": {},
     "output_type": "display_data"
    }
   ],
   "source": [
    "plt.plot(s, marker='o')\n",
    "\n",
    "# Adding labels and title\n",
    "plt.xlabel('Index')\n",
    "plt.ylabel('SIGMA')\n",
    "plt.title('Line Plot of Sigma after SVD')\n",
    "\n",
    "plt.show()"
   ]
  },
  {
   "cell_type": "code",
   "execution_count": 43,
   "id": "a9fa8001-f777-4948-be35-b3a71a7ed5a2",
   "metadata": {},
   "outputs": [
    {
     "name": "stdout",
     "output_type": "stream",
     "text": [
      "Requirement already satisfied: kneed in c:\\users\\pravinpowale\\anaconda3\\lib\\site-packages (0.8.5)\n",
      "Requirement already satisfied: numpy>=1.14.2 in c:\\users\\pravinpowale\\anaconda3\\lib\\site-packages (from kneed) (1.26.4)\n",
      "Requirement already satisfied: scipy>=1.0.0 in c:\\users\\pravinpowale\\anaconda3\\lib\\site-packages (from kneed) (1.13.1)\n"
     ]
    }
   ],
   "source": [
    "!pip install kneed"
   ]
  },
  {
   "cell_type": "code",
   "execution_count": 45,
   "id": "a05e28df-fb46-4922-a648-2173f6cc8c98",
   "metadata": {},
   "outputs": [
    {
     "name": "stdout",
     "output_type": "stream",
     "text": [
      "Elbow point index: 28\n"
     ]
    }
   ],
   "source": [
    "from kneed import KneeLocator\n",
    "\n",
    "sigma_values = np.diag(Sigma)\n",
    "\n",
    "# Create the scree plot\n",
    "x = np.arange(1, len(sigma_values) + 1)\n",
    "y = sigma_values\n",
    "\n",
    "# Locate the elbow point\n",
    "knee = KneeLocator(x, y, curve='convex', direction='decreasing')\n",
    "elbow_point = knee.knee\n",
    "\n",
    "print(\"Elbow point index:\", elbow_point)\n"
   ]
  },
  {
   "cell_type": "markdown",
   "id": "d47968ec-eb06-410f-a1cc-badfc06f9451",
   "metadata": {},
   "source": [
    "#### As Elbow point index is 28, r is set to 29"
   ]
  },
  {
   "cell_type": "code",
   "execution_count": 48,
   "id": "a8cf2a71-3e44-402c-ae7c-61ae46114054",
   "metadata": {},
   "outputs": [],
   "source": [
    "## Significant Principal Components is r = elbow_point + 1 = 29\n",
    "\n",
    "r = elbow_point + 1\n",
    "\n",
    "Ur = U[:, :r]\n",
    "Sigmar = Sigma[:r, :r]\n",
    "\n",
    "df_norm_rr = pd.DataFrame(Ur @ Sigmar)\n"
   ]
  },
  {
   "cell_type": "code",
   "execution_count": 50,
   "id": "30d2f848-22be-4d0c-b393-3a035bda3255",
   "metadata": {},
   "outputs": [
    {
     "name": "stdout",
     "output_type": "stream",
     "text": [
      "           0          1          2         3          4         5          6   \\\n",
      "0   -5.766177   7.825182  -5.552352  2.899130  -7.681434  2.100025  -8.745387   \n",
      "1    8.505143  -2.795335 -27.710844  8.067775  47.013145  4.729831 -12.121056   \n",
      "2    0.426979   5.998029  -2.920067 -4.824631   0.124712  3.342367  -1.868639   \n",
      "3   -2.426866   6.177943  -4.694891  3.183564  -2.708921  1.653779   0.254936   \n",
      "4   -3.604884   5.262896  -3.068288  1.276755  -2.387350  0.660096   0.331045   \n",
      "..        ...        ...        ...       ...        ...       ...        ...   \n",
      "153 -1.699570 -18.339080  -1.305560  1.271571  -5.040235  6.319922  -1.137069   \n",
      "154 -1.406978   4.133601   0.811674 -4.362749   0.163307  2.112702  -1.734999   \n",
      "155 -0.625686   3.920275  -1.226330  0.627130   0.362868  0.718857   0.501788   \n",
      "156 -1.472066  -3.732247  -2.151332 -0.497919   0.154522  0.381179  -1.131550   \n",
      "157 -0.259377   0.318855  -0.850887 -1.188217   0.100197 -2.646507  -0.092045   \n",
      "\n",
      "           7          8         9   ...        19        20        21  \\\n",
      "0    3.892210 -10.106897  3.780172  ...  0.300200  0.025842  7.654085   \n",
      "1   -4.740508  -7.966832  2.536025  ... -0.753906  0.405898 -0.627333   \n",
      "2    3.803485   3.723689 -5.501981  ...  4.144984  2.105755  1.898627   \n",
      "3    1.726164   1.144173  0.070492  ...  1.015517 -0.497285 -0.809833   \n",
      "4    0.037296  -0.272064  1.221058  ... -0.667819 -1.449723 -0.122941   \n",
      "..        ...        ...       ...  ...       ...       ...       ...   \n",
      "153 -2.187466   0.498954  8.369577  ...  0.077121 -0.754577 -4.865428   \n",
      "154  0.907293   0.683206 -0.763767  ... -0.345288  0.690816  1.641568   \n",
      "155 -2.404522   4.048019 -1.361029  ...  1.778015 -1.260491  1.141163   \n",
      "156 -0.360645   2.523723 -1.004586  ...  0.735425  0.971891  0.511725   \n",
      "157 -0.740423   1.959444 -2.442384  ...  1.325085  1.991605 -0.187633   \n",
      "\n",
      "           22        23        24        25        26        27        28  \n",
      "0    4.844224 -0.540589  4.141518 -1.969830  3.452761 -3.789596  2.518607  \n",
      "1   -2.115602 -0.764823 -0.386114 -1.076695 -0.755569 -1.061785 -1.937170  \n",
      "2    3.984436 -3.570558 -0.205524 -5.702464 -5.877387 -7.290309 -6.714423  \n",
      "3    1.133209 -0.461913 -1.104768 -0.222222  1.341902  0.122645 -0.251365  \n",
      "4   -2.708944 -2.452923  1.217443 -2.165025 -3.139218 -3.654606  1.827420  \n",
      "..        ...       ...       ...       ...       ...       ...       ...  \n",
      "153  0.144536  3.202826  3.628865 -0.898694 -1.029962  0.575128  0.192651  \n",
      "154  0.143152  0.477684  1.359368  1.125922  2.010058  0.956097  0.124015  \n",
      "155  0.075683  0.242675  1.183624  0.214388  1.603107  0.014508  1.025829  \n",
      "156  1.461871  1.563365  1.371383 -2.619729 -1.683886 -3.243558  0.536180  \n",
      "157 -2.781629 -3.305818 -1.176816  1.620696 -2.772899 -2.609318  3.138680  \n",
      "\n",
      "[158 rows x 29 columns]\n"
     ]
    }
   ],
   "source": [
    "print(df_norm_rr)"
   ]
  },
  {
   "cell_type": "markdown",
   "id": "852f3cc6-8d7a-430b-b5be-b5b94077f412",
   "metadata": {},
   "source": [
    "#### STEP 2 - Perform K-Means Clustering"
   ]
  },
  {
   "cell_type": "code",
   "execution_count": 53,
   "id": "7926a2e0-8deb-4e47-aae9-84653a85e723",
   "metadata": {},
   "outputs": [],
   "source": [
    "import sklearn.cluster as cluster"
   ]
  },
  {
   "cell_type": "markdown",
   "id": "8c3b91bc-2170-4816-91f9-4efc2bd6390a",
   "metadata": {},
   "source": [
    "#### SET Number of clusters = 4"
   ]
  },
  {
   "cell_type": "code",
   "execution_count": 56,
   "id": "d96c2cd4-fe5a-4f41-b576-1793509268bc",
   "metadata": {},
   "outputs": [
    {
     "name": "stderr",
     "output_type": "stream",
     "text": [
      "C:\\Users\\PravinPowale\\anaconda3\\Lib\\site-packages\\sklearn\\cluster\\_kmeans.py:1446: UserWarning: KMeans is known to have a memory leak on Windows with MKL, when there are less chunks than available threads. You can avoid it by setting the environment variable OMP_NUM_THREADS=1.\n",
      "  warnings.warn(\n"
     ]
    },
    {
     "data": {
      "text/plain": [
       "array([0, 3, 0, 0, 0, 0, 2, 0, 0, 0, 0, 0, 0, 0, 0, 1, 0, 2, 0, 0, 0, 0,\n",
       "       0, 2, 0, 2, 0, 0, 2, 2, 0, 2, 2, 2, 0, 0, 2, 2, 0, 0, 0, 0, 0, 0,\n",
       "       2, 2, 0, 2, 0, 3, 2, 3, 0, 2, 2, 0, 0, 0, 2, 0, 2, 0, 0, 0, 0, 2,\n",
       "       0, 2, 0, 2, 0, 2, 1, 2, 2, 0, 2, 2, 2, 2, 2, 2, 2, 0, 0, 2, 0, 2,\n",
       "       0, 1, 1, 2, 2, 0, 0, 0, 2, 2, 0, 3, 0, 0, 0, 0, 0, 0, 0, 3, 3, 2,\n",
       "       2, 2, 2, 2, 3, 0, 3, 2, 1, 0, 0, 3, 2, 2, 0, 0, 2, 0, 0, 2, 2, 2,\n",
       "       1, 0, 1, 0, 0, 0, 2, 0, 0, 1, 0, 0, 0, 0, 2, 0, 2, 2, 0, 0, 0, 1,\n",
       "       0, 0, 2, 0])"
      ]
     },
     "execution_count": 56,
     "metadata": {},
     "output_type": "execute_result"
    }
   ],
   "source": [
    "kmeans = cluster.KMeans(n_clusters=4, init='random')\n",
    "kmeans.fit(df_norm_rr)\n",
    "\n",
    "kmeans.labels_"
   ]
  },
  {
   "cell_type": "code",
   "execution_count": 58,
   "id": "9b7fc8ff-d906-4eec-9b75-fee65ddf1edc",
   "metadata": {},
   "outputs": [
    {
     "name": "stdout",
     "output_type": "stream",
     "text": [
      "(158, 1)\n"
     ]
    }
   ],
   "source": [
    "df_norm_rr_all = pd.concat([df_non_num['NAME'].reset_index(), df_20230630['CERT'].reset_index(), df_norm_rr], axis=1, ignore_index = True)\n",
    "#print(df_norm_rr_all)\n",
    "klabels_df = pd.DataFrame(kmeans.labels_)\n",
    "print(klabels_df.shape)\n",
    "bank_cluster_df = pd.concat([klabels_df.reset_index(), df_norm_rr_all], axis=1, ignore_index = True)"
   ]
  },
  {
   "cell_type": "code",
   "execution_count": 60,
   "id": "4066b7be-95cf-4599-97c3-72920e145396",
   "metadata": {},
   "outputs": [
    {
     "name": "stdout",
     "output_type": "stream",
     "text": [
      "   0   1   2                             3   4      5         6         7   \\\n",
      "0   0   0   0         FIRST INTERSTATE BANK   0   1105 -5.766177  7.825182   \n",
      "1   1   3   1  FIRST-CITIZENS BANK&TRUST CO   1  11063  8.505143 -2.795335   \n",
      "2   2   0   2                      BANK OZK   2    110  0.426979  5.998029   \n",
      "3   3   0   3               CENTENNIAL BANK   3  11241 -2.426866  6.177943   \n",
      "4   4   0   4                  CADENCE BANK   4  11813 -3.604884  5.262896   \n",
      "\n",
      "          8         9   ...        25        26        27        28        29  \\\n",
      "0  -5.552352  2.899130  ...  0.300200  0.025842  7.654085  4.844224 -0.540589   \n",
      "1 -27.710844  8.067775  ... -0.753906  0.405898 -0.627333 -2.115602 -0.764823   \n",
      "2  -2.920067 -4.824631  ...  4.144984  2.105755  1.898627  3.984436 -3.570558   \n",
      "3  -4.694891  3.183564  ...  1.015517 -0.497285 -0.809833  1.133209 -0.461913   \n",
      "4  -3.068288  1.276755  ... -0.667819 -1.449723 -0.122941 -2.708944 -2.452923   \n",
      "\n",
      "         30        31        32        33        34  \n",
      "0  4.141518 -1.969830  3.452761 -3.789596  2.518607  \n",
      "1 -0.386114 -1.076695 -0.755569 -1.061785 -1.937170  \n",
      "2 -0.205524 -5.702464 -5.877387 -7.290309 -6.714423  \n",
      "3 -1.104768 -0.222222  1.341902  0.122645 -0.251365  \n",
      "4  1.217443 -2.165025 -3.139218 -3.654606  1.827420  \n",
      "\n",
      "[5 rows x 35 columns]\n"
     ]
    }
   ],
   "source": [
    "print(bank_cluster_df.head())"
   ]
  },
  {
   "cell_type": "code",
   "execution_count": 62,
   "id": "d5835f24-d230-4e2d-b751-54a40e1283ec",
   "metadata": {},
   "outputs": [
    {
     "name": "stdout",
     "output_type": "stream",
     "text": [
      "     label                      bankname   CERT\n",
      "0        0         FIRST INTERSTATE BANK   1105\n",
      "1        3  FIRST-CITIZENS BANK&TRUST CO  11063\n",
      "2        0                      BANK OZK    110\n",
      "3        0               CENTENNIAL BANK  11241\n",
      "4        0                  CADENCE BANK  11813\n",
      "..     ...                           ...    ...\n",
      "153      1             NORTHERN TRUST CO    913\n",
      "154      0          VALLEY NATIONAL BANK   9396\n",
      "155      0             ROCKLAND TRUST CO   9712\n",
      "156      2                 COMERICA BANK    983\n",
      "157      0                   TRUIST BANK   9846\n",
      "\n",
      "[158 rows x 3 columns]\n"
     ]
    }
   ],
   "source": [
    "bank_label_df = bank_cluster_df.iloc[:, [1, 3, 5]]\n",
    "\n",
    "bank_label_df.columns = ['label', 'bankname', 'CERT']\n",
    "\n",
    "# Print the new DataFrame\n",
    "print(bank_label_df)"
   ]
  },
  {
   "cell_type": "markdown",
   "id": "b8e5741e-da5c-452b-bbcf-e74fd086499a",
   "metadata": {},
   "source": [
    "#### Select Label 0 (Cluster #0) banks"
   ]
  },
  {
   "cell_type": "code",
   "execution_count": 65,
   "id": "452c2cef-7928-48c9-9f67-a7c605aff66a",
   "metadata": {},
   "outputs": [
    {
     "name": "stdout",
     "output_type": "stream",
     "text": [
      "     label               bankname   CERT\n",
      "0        0  FIRST INTERSTATE BANK   1105\n",
      "2        0               BANK OZK    110\n",
      "3        0        CENTENNIAL BANK  11241\n",
      "4        0           CADENCE BANK  11813\n",
      "5        0         PROVIDENT BANK  12010\n",
      "..     ...                    ...    ...\n",
      "151      0            ARVEST BANK   8728\n",
      "152      0           SYNOVUS BANK    873\n",
      "154      0   VALLEY NATIONAL BANK   9396\n",
      "155      0      ROCKLAND TRUST CO   9712\n",
      "157      0            TRUIST BANK   9846\n",
      "\n",
      "[85 rows x 3 columns]\n"
     ]
    }
   ],
   "source": [
    "label_0_df = bank_label_df.query(\"label == 0\")\n",
    "print(label_0_df)"
   ]
  },
  {
   "cell_type": "markdown",
   "id": "c9b7ba7a-757c-4db1-a586-00002865aa28",
   "metadata": {},
   "source": [
    "#### Select Label 1 (Cluster #1) banks"
   ]
  },
  {
   "cell_type": "code",
   "execution_count": 68,
   "id": "727da689-85e4-41d5-9bed-2ed5c0f91251",
   "metadata": {},
   "outputs": [
    {
     "name": "stdout",
     "output_type": "stream",
     "text": [
      "     label                     bankname   CERT\n",
      "15       1   STATE STREET BANK&TRUST CO     14\n",
      "72       1       GOLDMAN SACHS BANK USA  33124\n",
      "89       1           BANK OF AMERICA NA   3510\n",
      "90       1          WELLS FARGO BANK NA   3511\n",
      "118      1  HSBC BANK USA NATIONAL ASSN  57890\n",
      "132      1       JPMORGAN CHASE BANK NA    628\n",
      "134      1      BANK OF NEW YORK MELLON    639\n",
      "141      1       CITIBANK NATIONAL ASSN   7213\n",
      "153      1            NORTHERN TRUST CO    913\n"
     ]
    }
   ],
   "source": [
    "label_1_df = bank_label_df.query(\"label == 1\")\n",
    "print(label_1_df)"
   ]
  },
  {
   "cell_type": "markdown",
   "id": "4207bcb0-44b0-4d14-8076-1b3d5a6723d2",
   "metadata": {},
   "source": [
    "#### Select Label 2 (Cluster #2) banks"
   ]
  },
  {
   "cell_type": "code",
   "execution_count": 71,
   "id": "943ca61a-1cf6-49e5-b6d7-d865b9e56da7",
   "metadata": {},
   "outputs": [
    {
     "name": "stdout",
     "output_type": "stream",
     "text": [
      "     label                      bankname   CERT\n",
      "6        2  FARMERS&MERCHANTS BK LONG BE   1225\n",
      "17       2        APPLE BANK FOR SAVINGS  16068\n",
      "23       2            CITY NATIONAL BANK  17281\n",
      "25       2         KEYBANK NATIONAL ASSN  17534\n",
      "28       2           FIRST HAWAIIAN BANK  17985\n",
      "29       2                BANK OF HAWAII  18053\n",
      "31       2         TD BANK NATIONAL ASSN  18409\n",
      "32       2                   CATHAY BANK  18503\n",
      "33       2                     FIRSTBANK  18714\n",
      "36       2    ISRAEL DISCOUNT BANK OF NY  19977\n",
      "37       2            CITY NB OF FLORIDA  20234\n",
      "44       2                 COMMERCE BANK  24998\n",
      "45       2         BANK OF AMERICA CA NA  25178\n",
      "47       2       SOFI BANK NATIONAL ASSN  26881\n",
      "50       2           WELLS FARGO NB WEST  27389\n",
      "53       2  CAPITOL FEDERAL SAVINGS BANK  27981\n",
      "54       2       WASHINGTON FEDERAL BANK  28088\n",
      "58       2                       NEXBANK  29209\n",
      "60       2      THIRD FS&LA OF CLEVELAND  30012\n",
      "65       2                EAST WEST BANK  31628\n",
      "67       2     USAA FEDERAL SAVINGS BANK  32188\n",
      "69       2   FLAGSTAR BANK NATIONAL ASSN  32541\n",
      "71       2        MORGAN STANLEY BANK NA  32992\n",
      "73       2                 CIBC BANK USA  33306\n",
      "74       2  CHARLES SCHWAB PREMIER BK SS  33497\n",
      "76       2                 BANK OF CHINA  33653\n",
      "77       2           STATE BANK OF INDIA  33682\n",
      "78       2            RAYMOND JAMES BANK  33893\n",
      "79       2     TD BANK USA NATIONAL ASSN  33947\n",
      "80       2  MORGAN STANLEY PRIVATE BK NA  34221\n",
      "81       2            TEXAS CAPITAL BANK  34383\n",
      "82       2                CUSTOMERS BANK  34444\n",
      "85       2                      TIAA FSB  34775\n",
      "87       2  BANCO POPULAR DE PUERTO RICO  34968\n",
      "91       2     BMW BANK OF NORTH AMERICA  35141\n",
      "92       2                     AXOS BANK  35546\n",
      "96       2                 MIDFIRST BANK   4063\n",
      "97       2            BOKF NATIONAL ASSN   4214\n",
      "109      2             STIFEL BANK&TRUST  57311\n",
      "110      2                OPTUM BANK INC  57408\n",
      "111      2       CHARLES SCHWAB BANK SSB  57450\n",
      "112      2         WESTERN ALLIANCE BANK  57512\n",
      "113      2                  UBS BANK USA  57565\n",
      "117      2                 BEAL BANK USA  57833\n",
      "122      2           AMERIPRISE BANK FSB  58303\n",
      "123      2         TRISTATE CAPITAL BANK  58457\n",
      "126      2         FIRST FOUNDATION BANK  58647\n",
      "129      2      BANKUNITED NATIONAL ASSN  58979\n",
      "130      2     CHARLES SCHWAB TRUST BANK  59108\n",
      "131      2  DEUTSCHE BANK TR CO AMERICAS    623\n",
      "138      2           FIFTH THIRD BANK NA   6672\n",
      "146      2      BNY MELLON NATIONAL ASSN   7946\n",
      "148      2     MERCHANTS BANK OF INDIANA   8056\n",
      "149      2        UMB BANK NATIONAL ASSN   8273\n",
      "156      2                 COMERICA BANK    983\n"
     ]
    }
   ],
   "source": [
    "label_2_df = bank_label_df.query(\"label == 2\")\n",
    "print(label_2_df)"
   ]
  },
  {
   "cell_type": "markdown",
   "id": "00c0cad7-5ca5-4b31-8fc9-916291a01736",
   "metadata": {},
   "source": [
    "#### Select Label 3 (Cluster #3) banks"
   ]
  },
  {
   "cell_type": "code",
   "execution_count": 74,
   "id": "b1eac03e-e189-4fb5-a036-124480e8b131",
   "metadata": {},
   "outputs": [
    {
     "name": "stdout",
     "output_type": "stream",
     "text": [
      "     label                      bankname   CERT\n",
      "1        3  FIRST-CITIZENS BANK&TRUST CO  11063\n",
      "49       3                SYNCHRONY BANK  27314\n",
      "51       3           AMERICAN EXPRESS NB  27471\n",
      "99       3     CAPITAL ONE NATIONAL ASSN   4297\n",
      "107      3                 DISCOVER BANK   5649\n",
      "108      3        BARCLAYS BANK DELAWARE  57203\n",
      "114      3         COMENITY CAPITAL BANK  57570\n",
      "116      3                     ALLY BANK  57803\n",
      "121      3               SALLIE MAE BANK  58177\n"
     ]
    }
   ],
   "source": [
    "label_3_df = bank_label_df.query(\"label == 3\")\n",
    "print(label_3_df)"
   ]
  },
  {
   "cell_type": "code",
   "execution_count": 76,
   "id": "2ce38481-1b50-4b7b-83c8-fbc0ff428e9e",
   "metadata": {},
   "outputs": [
    {
     "name": "stdout",
     "output_type": "stream",
     "text": [
      "<class 'pandas.core.frame.DataFrame'>\n",
      "RangeIndex: 571 entries, 0 to 570\n",
      "Data columns (total 7 columns):\n",
      " #   Column                  Non-Null Count  Dtype \n",
      "---  ------                  --------------  ----- \n",
      " 0   Bank Name               571 non-null    object\n",
      " 1   City                    571 non-null    object\n",
      " 2   State                   571 non-null    object\n",
      " 3   CERT                    571 non-null    int64 \n",
      " 4   Acquiring Institution   571 non-null    object\n",
      " 5   Closing Date            571 non-null    object\n",
      " 6   Fund                    571 non-null    int64 \n",
      "dtypes: int64(2), object(5)\n",
      "memory usage: 31.4+ KB\n",
      "None\n"
     ]
    }
   ],
   "source": [
    "failed_banks_df = pd.read_csv(\"data/failed-banks-data.csv\")\n",
    "print(failed_banks_df.info())"
   ]
  },
  {
   "cell_type": "code",
   "execution_count": 78,
   "id": "5cbf5b6b-d705-432e-b6d0-741fae366e58",
   "metadata": {},
   "outputs": [
    {
     "name": "stdout",
     "output_type": "stream",
     "text": [
      "(0, 9)\n"
     ]
    }
   ],
   "source": [
    "check_df = pd.merge(bank_label_df, failed_banks_df, on=\"CERT\", how=\"inner\")\n",
    "print(check_df.shape)"
   ]
  },
  {
   "cell_type": "markdown",
   "id": "b3394c21-f325-4ff3-aa4f-fc642ae1cc84",
   "metadata": {},
   "source": [
    "#### Since the number of rows of the inner join is 0, none of the failed banks are present in the set of banks selected\n",
    "#### Thus cluster numbers 0, 1, 2, and 3 do not correspond to any of the failed banks"
   ]
  },
  {
   "cell_type": "code",
   "execution_count": 68,
   "id": "e10386fc-3792-4892-a6c2-66ff2b3c529d",
   "metadata": {},
   "outputs": [],
   "source": [
    "bank_label_df.to_csv('data/label_data_4_clusters.csv', index=False)"
   ]
  },
  {
   "cell_type": "code",
   "execution_count": 81,
   "id": "828a0bd4-5990-4d6c-b8d2-4fb127b5bb63",
   "metadata": {},
   "outputs": [
    {
     "name": "stdout",
     "output_type": "stream",
     "text": [
      "   label                      bankname   CERT\n",
      "0      0         FIRST INTERSTATE BANK   1105\n",
      "1      3  FIRST-CITIZENS BANK&TRUST CO  11063\n",
      "2      0                      BANK OZK    110\n",
      "3      0               CENTENNIAL BANK  11241\n",
      "4      0                  CADENCE BANK  11813\n"
     ]
    }
   ],
   "source": [
    "print(bank_label_df.head())"
   ]
  },
  {
   "cell_type": "code",
   "execution_count": 83,
   "id": "220712b7-9668-47b2-9948-e04f1129a103",
   "metadata": {},
   "outputs": [
    {
     "name": "stdout",
     "output_type": "stream",
     "text": [
      "<class 'pandas.core.frame.DataFrame'>\n",
      "RangeIndex: 158 entries, 0 to 157\n",
      "Data columns (total 3 columns):\n",
      " #   Column    Non-Null Count  Dtype \n",
      "---  ------    --------------  ----- \n",
      " 0   label     158 non-null    int32 \n",
      " 1   bankname  158 non-null    object\n",
      " 2   CERT      158 non-null    int64 \n",
      "dtypes: int32(1), int64(1), object(1)\n",
      "memory usage: 3.2+ KB\n",
      "None\n"
     ]
    }
   ],
   "source": [
    "print(bank_label_df.info())"
   ]
  },
  {
   "cell_type": "markdown",
   "id": "479a6267-6243-42e0-ab25-2a7ec235ab9e",
   "metadata": {},
   "source": [
    "#### Create Logistic Regression Model based upon the labeled data created by clustering (n_clusters = 4)"
   ]
  },
  {
   "cell_type": "markdown",
   "id": "b39cc449-2755-4d41-bef5-534db68879c8",
   "metadata": {},
   "source": [
    "#### set X as concatenation of df_norm_cl (all numeric ratios after cleaning and normalization steps\n",
    "#### set y = label column from bank_label_df"
   ]
  },
  {
   "cell_type": "code",
   "execution_count": 120,
   "id": "79f51a2d-6787-4478-8306-f3a0c758ddd5",
   "metadata": {},
   "outputs": [],
   "source": [
    "## Import Classification libraries\n",
    "from sklearn.metrics import accuracy_score\n",
    "from sklearn.linear_model import LogisticRegression\n",
    "from sklearn.metrics import ConfusionMatrixDisplay, RocCurveDisplay\n",
    "from sklearn.metrics import confusion_matrix, roc_curve, auc\n",
    "from sklearn.metrics import auc as skl_auc\n",
    "from sklearn.model_selection import train_test_split"
   ]
  },
  {
   "cell_type": "code",
   "execution_count": 92,
   "id": "f58d9ece-cfcc-46ca-b1e0-c00b50f60381",
   "metadata": {},
   "outputs": [],
   "source": [
    "## Set X and y for Logistic Regression\n",
    "X = df_norm_cl\n",
    "y = bank_label_df['label']"
   ]
  },
  {
   "cell_type": "code",
   "execution_count": 94,
   "id": "c87844bb-4872-4440-a07a-43db8c446984",
   "metadata": {},
   "outputs": [
    {
     "name": "stdout",
     "output_type": "stream",
     "text": [
      "(158, 699)\n",
      "(158,)\n"
     ]
    }
   ],
   "source": [
    "print(X.shape)\n",
    "print(y.shape)"
   ]
  },
  {
   "cell_type": "code",
   "execution_count": 96,
   "id": "1ebbb233-8b00-4c7b-b191-d1bbcbaa77a8",
   "metadata": {},
   "outputs": [],
   "source": [
    "X_train, X_test, y_train, y_test = train_test_split(X, y)"
   ]
  },
  {
   "cell_type": "code",
   "execution_count": 98,
   "id": "c37cba84-bfce-4100-8845-3e913bdbc151",
   "metadata": {},
   "outputs": [
    {
     "data": {
      "text/html": [
       "<style>#sk-container-id-1 {\n",
       "  /* Definition of color scheme common for light and dark mode */\n",
       "  --sklearn-color-text: black;\n",
       "  --sklearn-color-line: gray;\n",
       "  /* Definition of color scheme for unfitted estimators */\n",
       "  --sklearn-color-unfitted-level-0: #fff5e6;\n",
       "  --sklearn-color-unfitted-level-1: #f6e4d2;\n",
       "  --sklearn-color-unfitted-level-2: #ffe0b3;\n",
       "  --sklearn-color-unfitted-level-3: chocolate;\n",
       "  /* Definition of color scheme for fitted estimators */\n",
       "  --sklearn-color-fitted-level-0: #f0f8ff;\n",
       "  --sklearn-color-fitted-level-1: #d4ebff;\n",
       "  --sklearn-color-fitted-level-2: #b3dbfd;\n",
       "  --sklearn-color-fitted-level-3: cornflowerblue;\n",
       "\n",
       "  /* Specific color for light theme */\n",
       "  --sklearn-color-text-on-default-background: var(--sg-text-color, var(--theme-code-foreground, var(--jp-content-font-color1, black)));\n",
       "  --sklearn-color-background: var(--sg-background-color, var(--theme-background, var(--jp-layout-color0, white)));\n",
       "  --sklearn-color-border-box: var(--sg-text-color, var(--theme-code-foreground, var(--jp-content-font-color1, black)));\n",
       "  --sklearn-color-icon: #696969;\n",
       "\n",
       "  @media (prefers-color-scheme: dark) {\n",
       "    /* Redefinition of color scheme for dark theme */\n",
       "    --sklearn-color-text-on-default-background: var(--sg-text-color, var(--theme-code-foreground, var(--jp-content-font-color1, white)));\n",
       "    --sklearn-color-background: var(--sg-background-color, var(--theme-background, var(--jp-layout-color0, #111)));\n",
       "    --sklearn-color-border-box: var(--sg-text-color, var(--theme-code-foreground, var(--jp-content-font-color1, white)));\n",
       "    --sklearn-color-icon: #878787;\n",
       "  }\n",
       "}\n",
       "\n",
       "#sk-container-id-1 {\n",
       "  color: var(--sklearn-color-text);\n",
       "}\n",
       "\n",
       "#sk-container-id-1 pre {\n",
       "  padding: 0;\n",
       "}\n",
       "\n",
       "#sk-container-id-1 input.sk-hidden--visually {\n",
       "  border: 0;\n",
       "  clip: rect(1px 1px 1px 1px);\n",
       "  clip: rect(1px, 1px, 1px, 1px);\n",
       "  height: 1px;\n",
       "  margin: -1px;\n",
       "  overflow: hidden;\n",
       "  padding: 0;\n",
       "  position: absolute;\n",
       "  width: 1px;\n",
       "}\n",
       "\n",
       "#sk-container-id-1 div.sk-dashed-wrapped {\n",
       "  border: 1px dashed var(--sklearn-color-line);\n",
       "  margin: 0 0.4em 0.5em 0.4em;\n",
       "  box-sizing: border-box;\n",
       "  padding-bottom: 0.4em;\n",
       "  background-color: var(--sklearn-color-background);\n",
       "}\n",
       "\n",
       "#sk-container-id-1 div.sk-container {\n",
       "  /* jupyter's `normalize.less` sets `[hidden] { display: none; }`\n",
       "     but bootstrap.min.css set `[hidden] { display: none !important; }`\n",
       "     so we also need the `!important` here to be able to override the\n",
       "     default hidden behavior on the sphinx rendered scikit-learn.org.\n",
       "     See: https://github.com/scikit-learn/scikit-learn/issues/21755 */\n",
       "  display: inline-block !important;\n",
       "  position: relative;\n",
       "}\n",
       "\n",
       "#sk-container-id-1 div.sk-text-repr-fallback {\n",
       "  display: none;\n",
       "}\n",
       "\n",
       "div.sk-parallel-item,\n",
       "div.sk-serial,\n",
       "div.sk-item {\n",
       "  /* draw centered vertical line to link estimators */\n",
       "  background-image: linear-gradient(var(--sklearn-color-text-on-default-background), var(--sklearn-color-text-on-default-background));\n",
       "  background-size: 2px 100%;\n",
       "  background-repeat: no-repeat;\n",
       "  background-position: center center;\n",
       "}\n",
       "\n",
       "/* Parallel-specific style estimator block */\n",
       "\n",
       "#sk-container-id-1 div.sk-parallel-item::after {\n",
       "  content: \"\";\n",
       "  width: 100%;\n",
       "  border-bottom: 2px solid var(--sklearn-color-text-on-default-background);\n",
       "  flex-grow: 1;\n",
       "}\n",
       "\n",
       "#sk-container-id-1 div.sk-parallel {\n",
       "  display: flex;\n",
       "  align-items: stretch;\n",
       "  justify-content: center;\n",
       "  background-color: var(--sklearn-color-background);\n",
       "  position: relative;\n",
       "}\n",
       "\n",
       "#sk-container-id-1 div.sk-parallel-item {\n",
       "  display: flex;\n",
       "  flex-direction: column;\n",
       "}\n",
       "\n",
       "#sk-container-id-1 div.sk-parallel-item:first-child::after {\n",
       "  align-self: flex-end;\n",
       "  width: 50%;\n",
       "}\n",
       "\n",
       "#sk-container-id-1 div.sk-parallel-item:last-child::after {\n",
       "  align-self: flex-start;\n",
       "  width: 50%;\n",
       "}\n",
       "\n",
       "#sk-container-id-1 div.sk-parallel-item:only-child::after {\n",
       "  width: 0;\n",
       "}\n",
       "\n",
       "/* Serial-specific style estimator block */\n",
       "\n",
       "#sk-container-id-1 div.sk-serial {\n",
       "  display: flex;\n",
       "  flex-direction: column;\n",
       "  align-items: center;\n",
       "  background-color: var(--sklearn-color-background);\n",
       "  padding-right: 1em;\n",
       "  padding-left: 1em;\n",
       "}\n",
       "\n",
       "\n",
       "/* Toggleable style: style used for estimator/Pipeline/ColumnTransformer box that is\n",
       "clickable and can be expanded/collapsed.\n",
       "- Pipeline and ColumnTransformer use this feature and define the default style\n",
       "- Estimators will overwrite some part of the style using the `sk-estimator` class\n",
       "*/\n",
       "\n",
       "/* Pipeline and ColumnTransformer style (default) */\n",
       "\n",
       "#sk-container-id-1 div.sk-toggleable {\n",
       "  /* Default theme specific background. It is overwritten whether we have a\n",
       "  specific estimator or a Pipeline/ColumnTransformer */\n",
       "  background-color: var(--sklearn-color-background);\n",
       "}\n",
       "\n",
       "/* Toggleable label */\n",
       "#sk-container-id-1 label.sk-toggleable__label {\n",
       "  cursor: pointer;\n",
       "  display: block;\n",
       "  width: 100%;\n",
       "  margin-bottom: 0;\n",
       "  padding: 0.5em;\n",
       "  box-sizing: border-box;\n",
       "  text-align: center;\n",
       "}\n",
       "\n",
       "#sk-container-id-1 label.sk-toggleable__label-arrow:before {\n",
       "  /* Arrow on the left of the label */\n",
       "  content: \"▸\";\n",
       "  float: left;\n",
       "  margin-right: 0.25em;\n",
       "  color: var(--sklearn-color-icon);\n",
       "}\n",
       "\n",
       "#sk-container-id-1 label.sk-toggleable__label-arrow:hover:before {\n",
       "  color: var(--sklearn-color-text);\n",
       "}\n",
       "\n",
       "/* Toggleable content - dropdown */\n",
       "\n",
       "#sk-container-id-1 div.sk-toggleable__content {\n",
       "  max-height: 0;\n",
       "  max-width: 0;\n",
       "  overflow: hidden;\n",
       "  text-align: left;\n",
       "  /* unfitted */\n",
       "  background-color: var(--sklearn-color-unfitted-level-0);\n",
       "}\n",
       "\n",
       "#sk-container-id-1 div.sk-toggleable__content.fitted {\n",
       "  /* fitted */\n",
       "  background-color: var(--sklearn-color-fitted-level-0);\n",
       "}\n",
       "\n",
       "#sk-container-id-1 div.sk-toggleable__content pre {\n",
       "  margin: 0.2em;\n",
       "  border-radius: 0.25em;\n",
       "  color: var(--sklearn-color-text);\n",
       "  /* unfitted */\n",
       "  background-color: var(--sklearn-color-unfitted-level-0);\n",
       "}\n",
       "\n",
       "#sk-container-id-1 div.sk-toggleable__content.fitted pre {\n",
       "  /* unfitted */\n",
       "  background-color: var(--sklearn-color-fitted-level-0);\n",
       "}\n",
       "\n",
       "#sk-container-id-1 input.sk-toggleable__control:checked~div.sk-toggleable__content {\n",
       "  /* Expand drop-down */\n",
       "  max-height: 200px;\n",
       "  max-width: 100%;\n",
       "  overflow: auto;\n",
       "}\n",
       "\n",
       "#sk-container-id-1 input.sk-toggleable__control:checked~label.sk-toggleable__label-arrow:before {\n",
       "  content: \"▾\";\n",
       "}\n",
       "\n",
       "/* Pipeline/ColumnTransformer-specific style */\n",
       "\n",
       "#sk-container-id-1 div.sk-label input.sk-toggleable__control:checked~label.sk-toggleable__label {\n",
       "  color: var(--sklearn-color-text);\n",
       "  background-color: var(--sklearn-color-unfitted-level-2);\n",
       "}\n",
       "\n",
       "#sk-container-id-1 div.sk-label.fitted input.sk-toggleable__control:checked~label.sk-toggleable__label {\n",
       "  background-color: var(--sklearn-color-fitted-level-2);\n",
       "}\n",
       "\n",
       "/* Estimator-specific style */\n",
       "\n",
       "/* Colorize estimator box */\n",
       "#sk-container-id-1 div.sk-estimator input.sk-toggleable__control:checked~label.sk-toggleable__label {\n",
       "  /* unfitted */\n",
       "  background-color: var(--sklearn-color-unfitted-level-2);\n",
       "}\n",
       "\n",
       "#sk-container-id-1 div.sk-estimator.fitted input.sk-toggleable__control:checked~label.sk-toggleable__label {\n",
       "  /* fitted */\n",
       "  background-color: var(--sklearn-color-fitted-level-2);\n",
       "}\n",
       "\n",
       "#sk-container-id-1 div.sk-label label.sk-toggleable__label,\n",
       "#sk-container-id-1 div.sk-label label {\n",
       "  /* The background is the default theme color */\n",
       "  color: var(--sklearn-color-text-on-default-background);\n",
       "}\n",
       "\n",
       "/* On hover, darken the color of the background */\n",
       "#sk-container-id-1 div.sk-label:hover label.sk-toggleable__label {\n",
       "  color: var(--sklearn-color-text);\n",
       "  background-color: var(--sklearn-color-unfitted-level-2);\n",
       "}\n",
       "\n",
       "/* Label box, darken color on hover, fitted */\n",
       "#sk-container-id-1 div.sk-label.fitted:hover label.sk-toggleable__label.fitted {\n",
       "  color: var(--sklearn-color-text);\n",
       "  background-color: var(--sklearn-color-fitted-level-2);\n",
       "}\n",
       "\n",
       "/* Estimator label */\n",
       "\n",
       "#sk-container-id-1 div.sk-label label {\n",
       "  font-family: monospace;\n",
       "  font-weight: bold;\n",
       "  display: inline-block;\n",
       "  line-height: 1.2em;\n",
       "}\n",
       "\n",
       "#sk-container-id-1 div.sk-label-container {\n",
       "  text-align: center;\n",
       "}\n",
       "\n",
       "/* Estimator-specific */\n",
       "#sk-container-id-1 div.sk-estimator {\n",
       "  font-family: monospace;\n",
       "  border: 1px dotted var(--sklearn-color-border-box);\n",
       "  border-radius: 0.25em;\n",
       "  box-sizing: border-box;\n",
       "  margin-bottom: 0.5em;\n",
       "  /* unfitted */\n",
       "  background-color: var(--sklearn-color-unfitted-level-0);\n",
       "}\n",
       "\n",
       "#sk-container-id-1 div.sk-estimator.fitted {\n",
       "  /* fitted */\n",
       "  background-color: var(--sklearn-color-fitted-level-0);\n",
       "}\n",
       "\n",
       "/* on hover */\n",
       "#sk-container-id-1 div.sk-estimator:hover {\n",
       "  /* unfitted */\n",
       "  background-color: var(--sklearn-color-unfitted-level-2);\n",
       "}\n",
       "\n",
       "#sk-container-id-1 div.sk-estimator.fitted:hover {\n",
       "  /* fitted */\n",
       "  background-color: var(--sklearn-color-fitted-level-2);\n",
       "}\n",
       "\n",
       "/* Specification for estimator info (e.g. \"i\" and \"?\") */\n",
       "\n",
       "/* Common style for \"i\" and \"?\" */\n",
       "\n",
       ".sk-estimator-doc-link,\n",
       "a:link.sk-estimator-doc-link,\n",
       "a:visited.sk-estimator-doc-link {\n",
       "  float: right;\n",
       "  font-size: smaller;\n",
       "  line-height: 1em;\n",
       "  font-family: monospace;\n",
       "  background-color: var(--sklearn-color-background);\n",
       "  border-radius: 1em;\n",
       "  height: 1em;\n",
       "  width: 1em;\n",
       "  text-decoration: none !important;\n",
       "  margin-left: 1ex;\n",
       "  /* unfitted */\n",
       "  border: var(--sklearn-color-unfitted-level-1) 1pt solid;\n",
       "  color: var(--sklearn-color-unfitted-level-1);\n",
       "}\n",
       "\n",
       ".sk-estimator-doc-link.fitted,\n",
       "a:link.sk-estimator-doc-link.fitted,\n",
       "a:visited.sk-estimator-doc-link.fitted {\n",
       "  /* fitted */\n",
       "  border: var(--sklearn-color-fitted-level-1) 1pt solid;\n",
       "  color: var(--sklearn-color-fitted-level-1);\n",
       "}\n",
       "\n",
       "/* On hover */\n",
       "div.sk-estimator:hover .sk-estimator-doc-link:hover,\n",
       ".sk-estimator-doc-link:hover,\n",
       "div.sk-label-container:hover .sk-estimator-doc-link:hover,\n",
       ".sk-estimator-doc-link:hover {\n",
       "  /* unfitted */\n",
       "  background-color: var(--sklearn-color-unfitted-level-3);\n",
       "  color: var(--sklearn-color-background);\n",
       "  text-decoration: none;\n",
       "}\n",
       "\n",
       "div.sk-estimator.fitted:hover .sk-estimator-doc-link.fitted:hover,\n",
       ".sk-estimator-doc-link.fitted:hover,\n",
       "div.sk-label-container:hover .sk-estimator-doc-link.fitted:hover,\n",
       ".sk-estimator-doc-link.fitted:hover {\n",
       "  /* fitted */\n",
       "  background-color: var(--sklearn-color-fitted-level-3);\n",
       "  color: var(--sklearn-color-background);\n",
       "  text-decoration: none;\n",
       "}\n",
       "\n",
       "/* Span, style for the box shown on hovering the info icon */\n",
       ".sk-estimator-doc-link span {\n",
       "  display: none;\n",
       "  z-index: 9999;\n",
       "  position: relative;\n",
       "  font-weight: normal;\n",
       "  right: .2ex;\n",
       "  padding: .5ex;\n",
       "  margin: .5ex;\n",
       "  width: min-content;\n",
       "  min-width: 20ex;\n",
       "  max-width: 50ex;\n",
       "  color: var(--sklearn-color-text);\n",
       "  box-shadow: 2pt 2pt 4pt #999;\n",
       "  /* unfitted */\n",
       "  background: var(--sklearn-color-unfitted-level-0);\n",
       "  border: .5pt solid var(--sklearn-color-unfitted-level-3);\n",
       "}\n",
       "\n",
       ".sk-estimator-doc-link.fitted span {\n",
       "  /* fitted */\n",
       "  background: var(--sklearn-color-fitted-level-0);\n",
       "  border: var(--sklearn-color-fitted-level-3);\n",
       "}\n",
       "\n",
       ".sk-estimator-doc-link:hover span {\n",
       "  display: block;\n",
       "}\n",
       "\n",
       "/* \"?\"-specific style due to the `<a>` HTML tag */\n",
       "\n",
       "#sk-container-id-1 a.estimator_doc_link {\n",
       "  float: right;\n",
       "  font-size: 1rem;\n",
       "  line-height: 1em;\n",
       "  font-family: monospace;\n",
       "  background-color: var(--sklearn-color-background);\n",
       "  border-radius: 1rem;\n",
       "  height: 1rem;\n",
       "  width: 1rem;\n",
       "  text-decoration: none;\n",
       "  /* unfitted */\n",
       "  color: var(--sklearn-color-unfitted-level-1);\n",
       "  border: var(--sklearn-color-unfitted-level-1) 1pt solid;\n",
       "}\n",
       "\n",
       "#sk-container-id-1 a.estimator_doc_link.fitted {\n",
       "  /* fitted */\n",
       "  border: var(--sklearn-color-fitted-level-1) 1pt solid;\n",
       "  color: var(--sklearn-color-fitted-level-1);\n",
       "}\n",
       "\n",
       "/* On hover */\n",
       "#sk-container-id-1 a.estimator_doc_link:hover {\n",
       "  /* unfitted */\n",
       "  background-color: var(--sklearn-color-unfitted-level-3);\n",
       "  color: var(--sklearn-color-background);\n",
       "  text-decoration: none;\n",
       "}\n",
       "\n",
       "#sk-container-id-1 a.estimator_doc_link.fitted:hover {\n",
       "  /* fitted */\n",
       "  background-color: var(--sklearn-color-fitted-level-3);\n",
       "}\n",
       "</style><div id=\"sk-container-id-1\" class=\"sk-top-container\"><div class=\"sk-text-repr-fallback\"><pre>LogisticRegression(random_state=42)</pre><b>In a Jupyter environment, please rerun this cell to show the HTML representation or trust the notebook. <br />On GitHub, the HTML representation is unable to render, please try loading this page with nbviewer.org.</b></div><div class=\"sk-container\" hidden><div class=\"sk-item\"><div class=\"sk-estimator fitted sk-toggleable\"><input class=\"sk-toggleable__control sk-hidden--visually\" id=\"sk-estimator-id-1\" type=\"checkbox\" checked><label for=\"sk-estimator-id-1\" class=\"sk-toggleable__label fitted sk-toggleable__label-arrow fitted\">&nbsp;&nbsp;LogisticRegression<a class=\"sk-estimator-doc-link fitted\" rel=\"noreferrer\" target=\"_blank\" href=\"https://scikit-learn.org/1.4/modules/generated/sklearn.linear_model.LogisticRegression.html\">?<span>Documentation for LogisticRegression</span></a><span class=\"sk-estimator-doc-link fitted\">i<span>Fitted</span></span></label><div class=\"sk-toggleable__content fitted\"><pre>LogisticRegression(random_state=42)</pre></div> </div></div></div></div>"
      ],
      "text/plain": [
       "LogisticRegression(random_state=42)"
      ]
     },
     "execution_count": 98,
     "metadata": {},
     "output_type": "execute_result"
    }
   ],
   "source": [
    "lgr = LogisticRegression(random_state=42)\n",
    "lgr.fit(X_train, y_train)"
   ]
  },
  {
   "cell_type": "code",
   "execution_count": 100,
   "id": "54e7dde2-201d-4673-a522-5c64da385c73",
   "metadata": {},
   "outputs": [],
   "source": [
    "y_pred_test = lgr.predict(X_test)"
   ]
  },
  {
   "cell_type": "markdown",
   "id": "f992a119-47c9-4b09-ba73-6473927696ed",
   "metadata": {},
   "source": [
    "#### Compute Accuracy"
   ]
  },
  {
   "cell_type": "code",
   "execution_count": 135,
   "id": "7402f90d-a875-45fc-b74d-a0f6ca98448c",
   "metadata": {},
   "outputs": [
    {
     "name": "stdout",
     "output_type": "stream",
     "text": [
      "Model Accuracy: 0.925\n"
     ]
    }
   ],
   "source": [
    "lgr_acc = lgr.score(X_test, y_test)\n",
    "print(f\"Model Accuracy: {lgr_acc}\")"
   ]
  },
  {
   "cell_type": "markdown",
   "id": "0a38a65f-3e06-4e0c-9c77-ced3c1b52c38",
   "metadata": {},
   "source": [
    "#### Confusion Matrix"
   ]
  },
  {
   "cell_type": "code",
   "execution_count": 126,
   "id": "f900de1d-4967-4e8f-8ae0-b71371c71026",
   "metadata": {},
   "outputs": [
    {
     "data": {
      "text/plain": [
       "<sklearn.metrics._plot.confusion_matrix.ConfusionMatrixDisplay at 0x13e134a97c0>"
      ]
     },
     "execution_count": 126,
     "metadata": {},
     "output_type": "execute_result"
    },
    {
     "data": {
      "image/png": "[encoded data removed]",
      "text/plain": [
       "<Figure size 600x600 with 2 Axes>"
      ]
     },
     "metadata": {},
     "output_type": "display_data"
    }
   ],
   "source": [
    "fig, ax = plt.subplots()\n",
    "#fig, ax = plt.plot(1, 2)\n",
    "fig.set_size_inches(6, 6)\n",
    "# Confusion Matrix\n",
    "conf_matrix = confusion_matrix(y_test, y_pred_test)\n",
    "disp1 = ConfusionMatrixDisplay(conf_matrix)\n",
    "disp1.plot(ax=ax)\n"
   ]
  },
  {
   "cell_type": "code",
   "execution_count": 132,
   "id": "7c95db75-617e-4bf8-b506-cef4fcc4b504",
   "metadata": {},
   "outputs": [
    {
     "name": "stdout",
     "output_type": "stream",
     "text": [
      "Total False Positives: 3\n",
      "Total False Negatives: 3\n"
     ]
    }
   ],
   "source": [
    "cm = conf_matrix\n",
    "fp = cm.sum(axis=0) - np.diag(cm)\n",
    "fn = cm.sum(axis=1) - np.diag(cm)\n",
    "\n",
    "total_fp = fp.sum()\n",
    "total_fn = fn.sum()\n",
    "\n",
    "print(f\"Total False Positives: {total_fp}\")\n",
    "print(f\"Total False Negatives: {total_fn}\")"
   ]
  },
  {
   "cell_type": "code",
   "execution_count": null,
   "id": "eafd054e-ed83-4144-814f-a3832ecd6aef",
   "metadata": {},
   "outputs": [],
   "source": []
  }
 ],
 "metadata": {
  "kernelspec": {
   "display_name": "Python 3 (ipykernel)",
   "language": "python",
   "name": "python3"
  },
  "language_info": {
   "codemirror_mode": {
    "name": "ipython",
    "version": 3
   },
   "file_extension": ".py",
   "mimetype": "text/x-python",
   "name": "python",
   "nbconvert_exporter": "python",
   "pygments_lexer": "ipython3",
   "version": "3.12.4"
  }
 },
 "nbformat": 4,
 "nbformat_minor": 5
}
